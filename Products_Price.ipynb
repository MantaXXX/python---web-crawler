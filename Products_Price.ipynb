{
 "cells": [
  {
   "cell_type": "code",
   "execution_count": 1,
   "metadata": {},
   "outputs": [],
   "source": [
    "import requests as req\n",
    "import bs4\n",
    "import json\n",
    "import pandas as pd\n",
    "\n",
    "# json 輸出\n",
    "data = []\n",
    "\n",
    "# excel 輸出格式\n",
    "excel_df = pd.DataFrame({\n",
    "    \"store\":[],\n",
    "    \"brand\":[],\n",
    "    \"title\":[],\n",
    "    \"discount_price\":[],\n",
    "    \"origin_price\":[],\n",
    "})\n",
    "\n",
    "# 用 keyword 爬每個網站\n",
    "def getItems(keyword):\n",
    "    rei(keyword)\n",
    "    # mountain_steals(keyword)\n",
    "    # bkcountry(keyword)\n",
    "    # sierra(keyword)\n",
    "    "
   ]
  },
  {
   "cell_type": "code",
   "execution_count": 19,
   "metadata": {},
   "outputs": [],
   "source": [
    "def rei(keyword):\n",
    "    # 網站 url\n",
    "    url = 'https://www.rei.com/rei-garage/search?q=' + keyword\n",
    "        \n",
    "    # REI 搜尋結果 <li> 代表每個 item\n",
    "    res = req.get(url).text\n",
    "    root = bs4.BeautifulSoup(res, 'html.parser')\n",
    "    all_items = root.find_all(class_ = 'pPe0GNuagvmEFURs1Q_vm')\n",
    "\n",
    "#     # 每個 item 的 brand, name, price 存入 data\n",
    "    for item in all_items:\n",
    "        store = item.find(class_ = 'a_QM5zztMi91ETEIiWNvN').text\n",
    "        brand = item.find(class_ = '_1fwp3k8dh1lbhAAenp87CH').text\n",
    "        title = item.find(class_ = 'r9nAQ5Ik_3veCKyyZkP0b').text\n",
    "        discount_price = item.find(class_ = '_2xZVXKL4Bd0pJyQCumYi9P').text\n",
    "        origin_price = item.find(class_ = 'Dm_X3ktyv_w_gPWuYlJf_').text\n",
    "        \n",
    "        data.append(\n",
    "            {\n",
    "            'store': store,\n",
    "            'brand': brand,\n",
    "            'title': title,\n",
    "            'discount_price': discount_price,\n",
    "            'origin_price': origin_price,\n",
    "            },\n",
    "        )\n",
    "        \n",
    "        new_excel_df = pd.DataFrame.from_dict({\n",
    "            \"store\":[store],\n",
    "            \"brand\":[brand],\n",
    "            \"title\":[title],\n",
    "            \"discount_price\":[discount_price],\n",
    "            \"origin_price\":[origin_price],\n",
    "        })\n",
    "        # 需要先將外層 excel_df 設定 global 變數\n",
    "        global excel_df\n",
    "        # 更新 excel_df\n",
    "        excel_df = excel_df.append(new_excel_df, ignore_index=True)\n",
    "\n",
    "    \n",
    "# prettify = root.prettify()"
   ]
  },
  {
   "cell_type": "code",
   "execution_count": 2,
   "metadata": {},
   "outputs": [],
   "source": [
    "def mountain_steals(keyword):\n",
    "    mountain_steals_url = 'https://www.mountainsteals.com/steals/shop/SearchDisplay?searchTerm=' + keyword + '&categoryId=&cmCat=-10020&storeId=13203&catalogId=10000005&langId=-1&pageSize=48&beginIndex=0&sType=SimpleSearch&resultCatEntryType=2&showResultsPage=true&searchSource=Q&pageView=&isFreeSearch=true&authToken=-1002%252CJdh5JVzqovGDGuZIS9A0yAc11LCiDPi1CWNOoTX%252B9xo%253D'\n",
    "    \n",
    "    # Mountain_steals 搜尋結果 <li> 代表每個 item\n",
    "#     mount_res = req.get(mountain_steals_url).text\n",
    "#     mount_root = bs4.BeautifulSoup(mount_res, 'html.parser')\n",
    "#     mount_all_items = mount_root.find_all()\n",
    "#     print(mount_res)\n",
    "    "
   ]
  },
  {
   "cell_type": "code",
   "execution_count": 11,
   "metadata": {},
   "outputs": [],
   "source": [
    "def bkcountry(keyword):\n",
    "    bkcountry_url = 'https://www.backcountry.com/Store/catalog/search.jsp?s=u&q=' + keyword\n",
    "    \n",
    "    # bkcountry 搜尋結果 <li> 代表每個 item\n",
    "#     bkcountry_res = req.get(bkcountry_url).text\n",
    "#     bkcountry_res_root = bs4.BeautifulSoup(bkcountry_res, 'html.parser')\n",
    "#     bkcountry_res_all_items = bkcountry_res_root.find_all()\n",
    "#     print(bkcountry_res_all_items)\n",
    "    "
   ]
  },
  {
   "cell_type": "code",
   "execution_count": 2,
   "metadata": {},
   "outputs": [],
   "source": [
    "def sierra(keyword):\n",
    "\n",
    "    url = 'https://www.sierra.com/s~' + keyword\n",
    "    res = req.get(url).text\n",
    "    print(res)\n",
    "#     root = bs4.BeautifulSoup(sierra_res, 'html.parser')\n",
    "#     all_items = root.find_all(class_ = 'pPe0GNuagvmEFURs1Q_vm')\n",
    "#     print(sierra_url)\n",
    "    \n",
    "    \n",
    "#     for item in sierra_all_items:\n",
    "#         store = item.find(class_ = 'a_QM5zztMi91ETEIiWNvN').text\n",
    "#         brand = item.find(class_ = '_1fwp3k8dh1lbhAAenp87CH').text\n",
    "#         title = item.find(class_ = 'r9nAQ5Ik_3veCKyyZkP0b').text\n",
    "#         discount_price = item.find(class_ = '_2xZVXKL4Bd0pJyQCumYi9P').text\n",
    "#         origin_price = item.find(class_ = 'Dm_X3ktyv_w_gPWuYlJf_').text\n",
    "        \n",
    "#         data.append(\n",
    "#             {\n",
    "#             'store': store,\n",
    "#             'brand': brand,\n",
    "#             'title': title,\n",
    "#             'discount_price': discount_price,\n",
    "#             'origin_price': origin_price,\n",
    "#             },\n",
    "#         )\n",
    "        \n",
    "#         new_excel_df = pd.DataFrame.from_dict({\n",
    "#             \"store\":[store],\n",
    "#             \"brand\":[brand],\n",
    "#             \"title\":[title],\n",
    "#             \"discount_price\":[discount_price],\n",
    "#             \"origin_price\":[origin_price],\n",
    "#         })\n",
    "#         # 更新 excel_df\n",
    "#         excel_df = excel_df.append(new_excel_df, ignore_index=True)\n"
   ]
  },
  {
   "source": [
    "# keyword 搜尋\n",
    "getItems('north')"
   ],
   "cell_type": "code",
   "metadata": {
    "scrolled": true
   },
   "execution_count": 16,
   "outputs": []
  },
  {
   "cell_type": "code",
   "execution_count": 17,
   "metadata": {},
   "outputs": [
    {
     "output_type": "stream",
     "name": "stdout",
     "text": [
      "         store              brand  \\\n0   REI Outlet     The North Face   \n1   REI Outlet     The North Face   \n2   REI Outlet     The North Face   \n3   REI Outlet     The North Face   \n4   REI Outlet     The North Face   \n5   REI Outlet     The North Face   \n6   REI Outlet     The North Face   \n7   REI Outlet     The North Face   \n8   REI Outlet     The North Face   \n9   REI Outlet     The North Face   \n10  REI Outlet     The North Face   \n11  REI Outlet     The North Face   \n12  REI Outlet     The North Face   \n13  REI Outlet     The North Face   \n14  REI Outlet     The North Face   \n15  REI Outlet     The North Face   \n16  REI Outlet     The North Face   \n17  REI Outlet     The North Face   \n18  REI Outlet     The North Face   \n19  REI Outlet     The North Face   \n20  REI Outlet     The North Face   \n21  REI Outlet  Mountain Hardwear   \n22  REI Outlet              prAna   \n23  REI Outlet     The North Face   \n24  REI Outlet     The North Face   \n25  REI Outlet     The North Face   \n26  REI Outlet     The North Face   \n27  REI Outlet     The North Face   \n28  REI Outlet     The North Face   \n29  REI Outlet          Smartwool   \n30  REI Outlet     The North Face   \n31  REI Outlet     The North Face   \n32  REI Outlet     The North Face   \n33  REI Outlet     The North Face   \n34  REI Outlet     The North Face   \n35  REI Outlet     The North Face   \n36  REI Outlet     The North Face   \n37  REI Outlet     The North Face   \n38  REI Outlet     The North Face   \n39  REI Outlet     The North Face   \n40  REI Outlet     The North Face   \n41  REI Outlet     The North Face   \n42  REI Outlet     The North Face   \n43  REI Outlet     The North Face   \n44  REI Outlet     The North Face   \n45  REI Outlet     The North Face   \n46  REI Outlet     The North Face   \n47  REI Outlet     The North Face   \n48  REI Outlet     The North Face   \n49  REI Outlet     The North Face   \n50  REI Outlet     The North Face   \n51  REI Outlet  Mountain Hardwear   \n52  REI Outlet              prAna   \n53  REI Outlet     The North Face   \n54  REI Outlet     The North Face   \n55  REI Outlet     The North Face   \n56  REI Outlet     The North Face   \n57  REI Outlet     The North Face   \n58  REI Outlet     The North Face   \n59  REI Outlet          Smartwool   \n\n                                                title discount_price  \\\n0       Cozy Slacker Full-Zip Fleece Jacket - Women's         $49.73   \n1               Fave Half Dome Pullover 2.0 - Women's         $40.73   \n2                           Printed Fanorak - Women's         $63.73   \n3                  Crescent Hooded Pullover - Women's         $81.73   \n4              Osito Hybrid Full-Zip Jacket - Women's         $86.73   \n5                   Echo Rock Full-Zip Jacket - Men's         $67.73   \n6                                     Fanorak - Men's         $59.73   \n7             Campshire Pullover Hoodie 2.0 - Women's        $111.73   \n8           Graphic Collection Overlay Jacket - Men's         $69.73   \n9                  Resolve Plus Rain Jacket - Women's         $44.73   \n10                     Stayside Chamois Shirt - Men's         $59.73   \n11                         Denali Etip Gloves - Men's         $26.73   \n12                         Tekno Ridge Hoodie - Men's         $76.73   \n13                           Class V Shorts - Women's         $27.73   \n14  ThermoBall Eco Insulated Jacket - New Taupe Gr...        $149.73   \n15                  Echo Rock Hybrid Hoodie - Women's         $82.73   \n16  ThermoBall Eco Insulated Hoodie - New Taupe Gr...        $164.73   \n17                      Dryzzle Rain Jacket - Women's         $99.73   \n18              Fave Half Dome Pullover 2.0 - Women's         $35.73   \n19                     Explore BLT Fanny Pack - Small         $41.73   \n20          Westoak City Trench Rain Jacket - Women's        $111.73   \n21  Direct North GORE-TEX INFINIUM Down Jacket - W...        $299.73   \n22                     North Cascades T-Shirt - Men's         $27.73   \n23  ThermoBall Eco Snow Triclimate 3-in-1 Jacket -...        $261.73   \n24                          Mountain Q Jacket - Men's        $133.73   \n25              Tekno Ridge Pullover Hoodie - Women's         $96.73   \n26                       Flight Night Shirt - Women's         $57.73   \n27                                    Ruthsac SE Pack         $99.73   \n28                                         Surge Pack         $96.73   \n29                                 North Divide Scarf         $44.73   \n30      Cozy Slacker Full-Zip Fleece Jacket - Women's         $49.73   \n31              Fave Half Dome Pullover 2.0 - Women's         $40.73   \n32                          Printed Fanorak - Women's         $63.73   \n33                 Crescent Hooded Pullover - Women's         $81.73   \n34             Osito Hybrid Full-Zip Jacket - Women's         $86.73   \n35                  Echo Rock Full-Zip Jacket - Men's         $67.73   \n36                                    Fanorak - Men's         $59.73   \n37            Campshire Pullover Hoodie 2.0 - Women's        $111.73   \n38          Graphic Collection Overlay Jacket - Men's         $69.73   \n39                 Resolve Plus Rain Jacket - Women's         $44.73   \n40                     Stayside Chamois Shirt - Men's         $59.73   \n41                         Denali Etip Gloves - Men's         $26.73   \n42                         Tekno Ridge Hoodie - Men's         $76.73   \n43                           Class V Shorts - Women's         $27.73   \n44  ThermoBall Eco Insulated Jacket - New Taupe Gr...        $149.73   \n45                  Echo Rock Hybrid Hoodie - Women's         $82.73   \n46  ThermoBall Eco Insulated Hoodie - New Taupe Gr...        $164.73   \n47                      Dryzzle Rain Jacket - Women's         $99.73   \n48              Fave Half Dome Pullover 2.0 - Women's         $35.73   \n49                     Explore BLT Fanny Pack - Small         $41.73   \n50          Westoak City Trench Rain Jacket - Women's        $111.73   \n51  Direct North GORE-TEX INFINIUM Down Jacket - W...        $299.73   \n52                     North Cascades T-Shirt - Men's         $27.73   \n53  ThermoBall Eco Snow Triclimate 3-in-1 Jacket -...        $261.73   \n54                          Mountain Q Jacket - Men's        $133.73   \n55              Tekno Ridge Pullover Hoodie - Women's         $96.73   \n56                       Flight Night Shirt - Women's         $57.73   \n57                                    Ruthsac SE Pack         $99.73   \n58                                         Surge Pack         $96.73   \n59                                 North Divide Scarf         $44.73   \n\n          origin_price  \n0   Compared to$120.00  \n1    Compared to$60.00  \n2    Compared to$85.00  \n3   Compared to$109.00  \n4   Compared to$115.00  \n5    Compared to$90.00  \n6    Compared to$79.00  \n7   Compared to$149.00  \n8    Compared to$99.00  \n9    Compared to$99.00  \n10   Compared to$80.00  \n11   Compared to$35.00  \n12  Compared to$129.00  \n13   Compared to$40.00  \n14  Compared to$199.00  \n15  Compared to$129.00  \n16  Compared to$220.00  \n17  Compared to$199.00  \n18   Compared to$60.00  \n19   Compared to$65.00  \n20  Compared to$149.00  \n21  Compared to$400.00  \n22   Compared to$39.00  \n23  Compared to$349.00  \n24  Compared to$158.00  \n25  Compared to$129.00  \n26   Compared to$90.00  \n27  Compared to$160.00  \n28  Compared to$129.00  \n29   Compared to$60.00  \n30  Compared to$120.00  \n31   Compared to$60.00  \n32   Compared to$85.00  \n33  Compared to$109.00  \n34  Compared to$115.00  \n35   Compared to$90.00  \n36   Compared to$79.00  \n37  Compared to$149.00  \n38   Compared to$99.00  \n39   Compared to$99.00  \n40   Compared to$80.00  \n41   Compared to$35.00  \n42  Compared to$129.00  \n43   Compared to$40.00  \n44  Compared to$199.00  \n45  Compared to$129.00  \n46  Compared to$220.00  \n47  Compared to$199.00  \n48   Compared to$60.00  \n49   Compared to$65.00  \n50  Compared to$149.00  \n51  Compared to$400.00  \n52   Compared to$39.00  \n53  Compared to$349.00  \n54  Compared to$158.00  \n55  Compared to$129.00  \n56   Compared to$90.00  \n57  Compared to$160.00  \n58  Compared to$129.00  \n59   Compared to$60.00  \n"
     ]
    }
   ],
   "source": [
    "print(excel_df)"
   ]
  },
  {
   "cell_type": "code",
   "execution_count": 8,
   "metadata": {},
   "outputs": [],
   "source": [
    "# 匯出 csv 檔\n",
    "excel_df.to_csv(\"products.csv\", encoding=\"utf16\", index=False)\n",
    "    \n",
    "# 匯出 json 檔\n",
    "out_file = open(\"products.json\", \"w\") \n",
    "json.dump(data, out_file, indent = 6) \n",
    "out_file.close()"
   ]
  },
  {
   "cell_type": "code",
   "execution_count": null,
   "metadata": {},
   "outputs": [],
   "source": []
  }
 ],
 "metadata": {
  "kernelspec": {
   "display_name": "Python 3",
   "language": "python",
   "name": "python3"
  },
  "language_info": {
   "codemirror_mode": {
    "name": "ipython",
    "version": 3
   },
   "file_extension": ".py",
   "mimetype": "text/x-python",
   "name": "python",
   "nbconvert_exporter": "python",
   "pygments_lexer": "ipython3",
   "version": "3.8.5-final"
  }
 },
 "nbformat": 4,
 "nbformat_minor": 4
}